{
 "cells": [
  {
   "cell_type": "code",
   "execution_count": 23,
   "id": "f3d0349a",
   "metadata": {},
   "outputs": [
    {
     "name": "stdout",
     "output_type": "stream",
     "text": [
      "('History', 'Geography', 'English', 'Hindi', 'Marathi', 'Science', 'Mathematics')\n",
      "3\n",
      "Marathi\n"
     ]
    }
   ],
   "source": [
    "sub=('History', 'Geography', 'English', 'Hindi', 'Marathi','Science', 'Mathematics')\n",
    "print(sub)\n",
    "print(sub.index('Hindi'))\n",
    "print(sub[-3]) #negative index"
   ]
  },
  {
   "cell_type": "code",
   "execution_count": 28,
   "id": "95373e62",
   "metadata": {},
   "outputs": [
    {
     "name": "stdout",
     "output_type": "stream",
     "text": [
      "('BMW', 'Audi', 'honda', 'aura', 'mahindra', 'alto', 'edasd', 'ewefrg')\n",
      "('aura', 'mahindra', 'alto', 'edasd')\n",
      "('BMW', 'Audi', 'honda')\n",
      "('BMW', 'Audi', 'honda', 'aura', 'mahindra', 'alto')\n",
      "Audi\n",
      "('BMW', 'Audi', 'honda', 'aura', 'mahindra', 'alto')\n"
     ]
    }
   ],
   "source": [
    "car=('BMW','Audi','honda','aura','mahindra','alto','edasd','ewefrg')\n",
    "print(car)\n",
    "print(car[3:7])\n",
    "print(car[0:3])\n",
    "print(car[0:6])\n",
    "print(car[-7])\n",
    "print(car[0:-2])"
   ]
  },
  {
   "cell_type": "code",
   "execution_count": 4,
   "id": "c4929f62",
   "metadata": {},
   "outputs": [
    {
     "name": "stdout",
     "output_type": "stream",
     "text": [
      "('pink', 'white', 'black', 'green', 'green', 'red', 'yellow')\n"
     ]
    }
   ],
   "source": [
    "colour=('pink','white','black','blue','green','red','yellow')\n",
    "c=list(colour)\n",
    "c[3]='green'\n",
    "colour = tuple(c)\n",
    "print(colour)"
   ]
  },
  {
   "cell_type": "code",
   "execution_count": null,
   "id": "75bf1471",
   "metadata": {},
   "outputs": [],
   "source": [
    "colour=('pink','white','black','blue','green','red','yellow')\n",
    "c=list(colour)\n",
    "c[3:6]='blue','pink'"
   ]
  }
 ],
 "metadata": {
  "kernelspec": {
   "display_name": "Python 3 (ipykernel)",
   "language": "python",
   "name": "python3"
  },
  "language_info": {
   "codemirror_mode": {
    "name": "ipython",
    "version": 3
   },
   "file_extension": ".py",
   "mimetype": "text/x-python",
   "name": "python",
   "nbconvert_exporter": "python",
   "pygments_lexer": "ipython3",
   "version": "3.11.5"
  }
 },
 "nbformat": 4,
 "nbformat_minor": 5
}
