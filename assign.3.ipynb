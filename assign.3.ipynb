{
 "cells": [
  {
   "cell_type": "code",
   "execution_count": 7,
   "id": "5009ab1b",
   "metadata": {},
   "outputs": [
    {
     "name": "stdout",
     "output_type": "stream",
     "text": [
      "['History', 'Geography', 'English', 'Hindi', 'Marathi', 'Science', 'Mathematics']\n"
     ]
    }
   ],
   "source": [
    "x= [ 'History', 'Geography', 'English', 'Hindi', 'Marathi','Science','Mathematics']\n",
    "print(x)"
   ]
  },
  {
   "cell_type": "code",
   "execution_count": 8,
   "id": "69e845d0",
   "metadata": {},
   "outputs": [
    {
     "name": "stdout",
     "output_type": "stream",
     "text": [
      "Science\n"
     ]
    }
   ],
   "source": [
    "x=[ 'History', 'Geography', 'English', 'Hindi', 'Marathi','Science','Mathematics']\n",
    "print(x[5])"
   ]
  },
  {
   "cell_type": "code",
   "execution_count": 9,
   "id": "11327e42",
   "metadata": {},
   "outputs": [
    {
     "name": "stdout",
     "output_type": "stream",
     "text": [
      "-5\n"
     ]
    }
   ],
   "source": [
    "x= [ -1,-2,-3,-4,-5]\n",
    "print(x[4])"
   ]
  },
  {
   "cell_type": "code",
   "execution_count": 10,
   "id": "6f86e77a",
   "metadata": {},
   "outputs": [
    {
     "name": "stdout",
     "output_type": "stream",
     "text": [
      "['audi', 'thar', 'Mercedes', 'rengrover']\n"
     ]
    }
   ],
   "source": [
    "cars=['aura','alto','bmw','audi','thar','Mercedes','rengrover','mahindra']\n",
    "print(cars[3:7])"
   ]
  },
  {
   "cell_type": "code",
   "execution_count": 20,
   "id": "e1fa95d6",
   "metadata": {},
   "outputs": [
    {
     "name": "stdout",
     "output_type": "stream",
     "text": [
      "['aura', 'alto', 'bmw']\n"
     ]
    }
   ],
   "source": [
    "cars=['aura','alto','bmw','audi','thar','Mercedes','rengrover','mahindra']\n",
    "print(cars[0:3])"
   ]
  },
  {
   "cell_type": "code",
   "execution_count": 23,
   "id": "1af51947",
   "metadata": {},
   "outputs": [
    {
     "name": "stdout",
     "output_type": "stream",
     "text": [
      "['aura', 'alto', 'bmw', 'audi', 'thar']\n"
     ]
    }
   ],
   "source": [
    "cars=['aura','alto','bmw','audi','thar','Mercedes','rengrover','mahindra']\n",
    "print(cars[0:5])"
   ]
  },
  {
   "cell_type": "code",
   "execution_count": 24,
   "id": "df40c2fe",
   "metadata": {},
   "outputs": [
    {
     "name": "stdout",
     "output_type": "stream",
     "text": [
      "alto\n"
     ]
    }
   ],
   "source": [
    "cars=['aura','alto','bmw','audi','thar','Mercedes','rengrover','mahindra']\n",
    "print(cars[-7])"
   ]
  },
  {
   "cell_type": "code",
   "execution_count": 25,
   "id": "0e1c3bad",
   "metadata": {},
   "outputs": [
    {
     "name": "stdout",
     "output_type": "stream",
     "text": [
      "['aura', 'alto', 'bmw', 'audi', 'thar', 'Mercedes']\n"
     ]
    }
   ],
   "source": [
    "cars=['aura','alto','bmw','audi','thar','Mercedes','rengrover','mahindra']\n",
    "print(cars[0:-2])"
   ]
  },
  {
   "cell_type": "code",
   "execution_count": 30,
   "id": "c7a954eb",
   "metadata": {},
   "outputs": [
    {
     "name": "stdout",
     "output_type": "stream",
     "text": [
      "['pink', 'white', 'orange', 'green', 'black', 'red']\n"
     ]
    }
   ],
   "source": [
    "colour=['pink','white','orange','yellow','black','red']\n",
    "colour[3]='green'\n",
    "print(colour)\n"
   ]
  },
  {
   "cell_type": "code",
   "execution_count": 37,
   "id": "02151b03",
   "metadata": {},
   "outputs": [
    {
     "name": "stdout",
     "output_type": "stream",
     "text": [
      "['pink', 'white', 'orange', 'yellow', 'black', 'red', 'blue']\n",
      "['pink', 'white', 'orange', 'green', 'black', 'red', 'blue']\n"
     ]
    }
   ],
   "source": [
    "colour=['pink','white','orange','yellow','black','red','blue']\n",
    "print(colour)\n",
    "colour[3]='green'   #change index3 to index6\n",
    "print(colour)"
   ]
  },
  {
   "cell_type": "code",
   "execution_count": 41,
   "id": "aa3f949a",
   "metadata": {},
   "outputs": [
    {
     "name": "stdout",
     "output_type": "stream",
     "text": [
      "['samsung', 'oppo', 'realme', 'redmi', 'apple', 'oneplus']\n",
      "['samsung', 'oppo', 'realme', 'redmi', 'apple']\n"
     ]
    }
   ],
   "source": [
    "mob=['samsung','oppo','realme','redmi','apple','oneplus']\n",
    "print(mob)\n",
    "mob.pop()\n",
    "print(mob)\n"
   ]
  },
  {
   "cell_type": "code",
   "execution_count": 43,
   "id": "75ce1f04",
   "metadata": {},
   "outputs": [
    {
     "name": "stdout",
     "output_type": "stream",
     "text": [
      "['samsung', 'oppo', 'realme', 'redmi', 'oneplus']\n"
     ]
    }
   ],
   "source": [
    "mob=['samsung','oppo','realme','redmi','apple','oneplus']\n",
    "mob.pop(4)\n",
    "print(mob)"
   ]
  },
  {
   "cell_type": "code",
   "execution_count": 44,
   "id": "fed7bbe4",
   "metadata": {},
   "outputs": [
    {
     "name": "stdout",
     "output_type": "stream",
     "text": [
      "['aura', 'alto', 'bmw', 'audi', 'thar', 'Mercedes', 'rengrover', 'mahindra', 'samsung', 'oppo', 'realme', 'redmi', 'apple', 'oneplus']\n"
     ]
    }
   ],
   "source": [
    "cars=['aura','alto','bmw','audi','thar','Mercedes','rengrover','mahindra']\n",
    "mob=['samsung','oppo','realme','redmi','apple','oneplus']\n",
    "print(cars+mob)"
   ]
  },
  {
   "cell_type": "code",
   "execution_count": 48,
   "id": "609906ae",
   "metadata": {},
   "outputs": [
    {
     "name": "stdout",
     "output_type": "stream",
     "text": [
      "['marathi', 'english', 'math']\n",
      "['aura', 'alto', 'bmw', 'audi', 'thar', 'Mercedes', 'rengrover', 'mahindra', 'marathi', 'english', 'math']\n"
     ]
    }
   ],
   "source": [
    "book=['marathi','english','math']\n",
    "print(book)\n",
    "cars=['aura','alto','bmw','audi','thar','Mercedes','rengrover','mahindra']\n",
    "cars.extend(book)\n",
    "print(cars)"
   ]
  },
  {
   "cell_type": "code",
   "execution_count": 51,
   "id": "efdfab99",
   "metadata": {},
   "outputs": [
    {
     "name": "stdout",
     "output_type": "stream",
     "text": [
      "[1, 2, 3, 4, 4, 5, 5, 'swati', 'happy', 10]\n",
      "[1, 2, 3, 4, 4, 5, 5, 'swati', 'happy', 10, 11]\n"
     ]
    }
   ],
   "source": [
    "x=[1,2,3,4,4,5,5,'swati','happy']\n",
    "x.append(10)\n",
    "print(x)\n",
    "x.append(11)\n",
    "print(x)"
   ]
  },
  {
   "cell_type": "code",
   "execution_count": 55,
   "id": "9f725f0e",
   "metadata": {},
   "outputs": [
    {
     "name": "stdout",
     "output_type": "stream",
     "text": [
      "[1, 2, 3, 4, 4, 5, 5, 'swati', 'happy']\n",
      "[1, 2, 3, 4, 4, 5, 5, 'swati', 'happy']\n"
     ]
    }
   ],
   "source": [
    "x=[1,2,3,4,4,5,5,'swati','happy']\n",
    "print(x)\n",
    "a= x.copy() #copy list\n",
    "print(a)"
   ]
  },
  {
   "cell_type": "code",
   "execution_count": 61,
   "id": "a2da0a84",
   "metadata": {},
   "outputs": [
    {
     "name": "stdout",
     "output_type": "stream",
     "text": [
      "[1, 2, 3, 4, 4, 5, 5, 'swati', 'happy']\n"
     ]
    },
    {
     "ename": "AttributeError",
     "evalue": "'list' object has no attribute 'slice'",
     "output_type": "error",
     "traceback": [
      "\u001b[1;31m---------------------------------------------------------------------------\u001b[0m",
      "\u001b[1;31mAttributeError\u001b[0m                            Traceback (most recent call last)",
      "Cell \u001b[1;32mIn[61], line 3\u001b[0m\n\u001b[0;32m      1\u001b[0m x\u001b[38;5;241m=\u001b[39m[\u001b[38;5;241m1\u001b[39m,\u001b[38;5;241m2\u001b[39m,\u001b[38;5;241m3\u001b[39m,\u001b[38;5;241m4\u001b[39m,\u001b[38;5;241m4\u001b[39m,\u001b[38;5;241m5\u001b[39m,\u001b[38;5;241m5\u001b[39m,\u001b[38;5;124m'\u001b[39m\u001b[38;5;124mswati\u001b[39m\u001b[38;5;124m'\u001b[39m,\u001b[38;5;124m'\u001b[39m\u001b[38;5;124mhappy\u001b[39m\u001b[38;5;124m'\u001b[39m]\n\u001b[0;32m      2\u001b[0m \u001b[38;5;28mprint\u001b[39m(x)\n\u001b[1;32m----> 3\u001b[0m x\u001b[38;5;241m.\u001b[39mslice[\u001b[38;5;241m2\u001b[39m:\u001b[38;5;241m6\u001b[39m:\u001b[38;5;241m2\u001b[39m]\n\u001b[0;32m      4\u001b[0m \u001b[38;5;28mprint\u001b[39m(x)\n",
      "\u001b[1;31mAttributeError\u001b[0m: 'list' object has no attribute 'slice'"
     ]
    }
   ],
   "source": [
    "x=[1,2,3,4,4,5,5,'swati','happy']\n",
    "print(x)\n",
    "x.slice[2:6:2]\n",
    "print(x)"
   ]
  },
  {
   "cell_type": "code",
   "execution_count": 80,
   "id": "04d5192d",
   "metadata": {},
   "outputs": [
    {
     "name": "stdout",
     "output_type": "stream",
     "text": [
      "[1, 2, 3, 4, 12, 1234]\n",
      "[1, 2, 3, 4, 12, 1234, 1000]\n",
      "6\n",
      "[1, 'swati', 2, 3, 4, 12, 1234, 1000]\n",
      "[1, 'swati', 2, 3, 4, 12, 1234]\n",
      "[1234, 12, 4, 3, 2, 'swati', 1]\n",
      "[1234, 12, 4, 3, 2, 'swati']\n"
     ]
    }
   ],
   "source": [
    "number=[1,2,3,4,1234,12]\n",
    "number.sort()\n",
    "print(number)\n",
    "number.append(1000)\n",
    "print(number)\n",
    "print(number.index(1000) )#index4\n",
    "number.insert(1 ,'swati')\n",
    "print(number)\n",
    "number.pop()\n",
    "print(number)\n",
    "number.reverse()\n",
    "print(number)\n",
    "number.remove(1)\n",
    "print(number)"
   ]
  },
  {
   "cell_type": "code",
   "execution_count": null,
   "id": "41229876",
   "metadata": {},
   "outputs": [],
   "source": []
  }
 ],
 "metadata": {
  "kernelspec": {
   "display_name": "Python 3 (ipykernel)",
   "language": "python",
   "name": "python3"
  },
  "language_info": {
   "codemirror_mode": {
    "name": "ipython",
    "version": 3
   },
   "file_extension": ".py",
   "mimetype": "text/x-python",
   "name": "python",
   "nbconvert_exporter": "python",
   "pygments_lexer": "ipython3",
   "version": "3.11.5"
  }
 },
 "nbformat": 4,
 "nbformat_minor": 5
}
