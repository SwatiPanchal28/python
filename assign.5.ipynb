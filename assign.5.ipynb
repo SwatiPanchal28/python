{
 "cells": [
  {
   "cell_type": "code",
   "execution_count": 1,
   "id": "6d063989",
   "metadata": {},
   "outputs": [
    {
     "name": "stdout",
     "output_type": "stream",
     "text": [
      "{1: 'mango', 2: 'apple', 3: 'white', 4: 'black', 5: 'red'}\n",
      "5\n"
     ]
    }
   ],
   "source": [
    "fruit={1:'mango',2:'apple',3:'white',4:'black',5:'red'}\n",
    "print(fruit)\n",
    "a=len(fruit)\n",
    "print(a)  #lenght"
   ]
  },
  {
   "cell_type": "code",
   "execution_count": 5,
   "id": "af23a63c",
   "metadata": {},
   "outputs": [
    {
     "ename": "SyntaxError",
     "evalue": "Missing parentheses in call to 'print'. Did you mean print(...)? (864464037.py, line 2)",
     "output_type": "error",
     "traceback": [
      "\u001b[1;36m  Cell \u001b[1;32mIn[5], line 2\u001b[1;36m\u001b[0m\n\u001b[1;33m    print{capital[Albania]}\u001b[0m\n\u001b[1;37m    ^\u001b[0m\n\u001b[1;31mSyntaxError\u001b[0m\u001b[1;31m:\u001b[0m Missing parentheses in call to 'print'. Did you mean print(...)?\n"
     ]
    }
   ],
   "source": [
    "capital={Afghanistan:'Kabul',Albania:'Tirana',Algeria:'Algiers',Andorra:'Andorra la Vella',Angola:'Luanda',Antigua:'Barbuda'}\n",
    "print"
   ]
  },
  {
   "cell_type": "code",
   "execution_count": null,
   "id": "a9af33d0",
   "metadata": {},
   "outputs": [],
   "source": []
  },
  {
   "cell_type": "code",
   "execution_count": null,
   "id": "ae40e5c5",
   "metadata": {},
   "outputs": [],
   "source": []
  }
 ],
 "metadata": {
  "kernelspec": {
   "display_name": "Python 3 (ipykernel)",
   "language": "python",
   "name": "python3"
  },
  "language_info": {
   "codemirror_mode": {
    "name": "ipython",
    "version": 3
   },
   "file_extension": ".py",
   "mimetype": "text/x-python",
   "name": "python",
   "nbconvert_exporter": "python",
   "pygments_lexer": "ipython3",
   "version": "3.11.5"
  }
 },
 "nbformat": 4,
 "nbformat_minor": 5
}
