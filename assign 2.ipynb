{
 "cells": [
  {
   "cell_type": "code",
   "execution_count": 2,
   "id": "9bd20ce5",
   "metadata": {},
   "outputs": [
    {
     "name": "stdout",
     "output_type": "stream",
     "text": [
      " Diploma in python programming\n"
     ]
    }
   ],
   "source": [
    "subject=\" Diploma in python programming\"\n",
    "print(subject)"
   ]
  },
  {
   "cell_type": "code",
   "execution_count": 3,
   "id": "c05b932e",
   "metadata": {},
   "outputs": [
    {
     "name": "stdout",
     "output_type": "stream",
     "text": [
      "My father did not even bother to answer me.\n",
      "There is no play with fire.\n",
      "Stop talking and open your book.\n",
      "You always want to play games.\n"
     ]
    }
   ],
   "source": [
    "info='''My father did not even bother to answer me.\n",
    "There is no play with fire.\n",
    "Stop talking and open your book.\n",
    "You always want to play games.'''\n",
    "print(info)"
   ]
  },
  {
   "cell_type": "code",
   "execution_count": 5,
   "id": "7fc1d284",
   "metadata": {},
   "outputs": [
    {
     "name": "stdout",
     "output_type": "stream",
     "text": [
      "l\n"
     ]
    }
   ],
   "source": [
    "a=\"You always want to play games\"\n",
    "print(a[5])"
   ]
  },
  {
   "cell_type": "code",
   "execution_count": 7,
   "id": "6399493c",
   "metadata": {},
   "outputs": [
    {
     "name": "stdout",
     "output_type": "stream",
     "text": [
      "31\n"
     ]
    }
   ],
   "source": [
    "b=\"Stop talking and open your book\"\n",
    "print(len(b))"
   ]
  },
  {
   "cell_type": "code",
   "execution_count": 8,
   "id": "b58380c1",
   "metadata": {},
   "outputs": [
    {
     "name": "stdout",
     "output_type": "stream",
     "text": [
      "My father did not even bother to answer me.There is no play with fire.\n"
     ]
    }
   ],
   "source": [
    "a=\"My father did not even bother to answer me.\"\n",
    "b=\"There is no play with fire.\"\n",
    "print(a+b)"
   ]
  },
  {
   "cell_type": "code",
   "execution_count": 10,
   "id": "415c47ca",
   "metadata": {},
   "outputs": [
    {
     "name": "stdout",
     "output_type": "stream",
     "text": [
      "['I', 'usually', 'eat', 'popcorns', 'for', 'a', 'snack', 'before', 'my', 'dinner.']\n"
     ]
    }
   ],
   "source": [
    "a=\"I usually eat popcorns for a snack before my dinner.\"\n",
    "print(a.split())"
   ]
  },
  {
   "cell_type": "code",
   "execution_count": 11,
   "id": "27aa300e",
   "metadata": {},
   "outputs": [
    {
     "name": "stdout",
     "output_type": "stream",
     "text": [
      "The final problem in a series of problems.\n"
     ]
    }
   ],
   "source": [
    "a=\"the final problem in a series of problems.\"\n",
    "print(a.capitalize())"
   ]
  },
  {
   "cell_type": "code",
   "execution_count": 13,
   "id": "8f71e23a",
   "metadata": {},
   "outputs": [
    {
     "name": "stdout",
     "output_type": "stream",
     "text": [
      "THE LETTERS ARE DELIVERED\n"
     ]
    }
   ],
   "source": [
    "a=\"The letters are delivered\"\n",
    "print(a.upper())"
   ]
  },
  {
   "cell_type": "code",
   "execution_count": 15,
   "id": "a3a4aae1",
   "metadata": {},
   "outputs": [
    {
     "name": "stdout",
     "output_type": "stream",
     "text": [
      "he delivers the letter\n"
     ]
    }
   ],
   "source": [
    "a=\"HE DELIVERS THE LETTER\"\n",
    "print(a.lower())"
   ]
  },
  {
   "cell_type": "code",
   "execution_count": 19,
   "id": "2656eae1",
   "metadata": {},
   "outputs": [
    {
     "name": "stdout",
     "output_type": "stream",
     "text": [
      "imwi\n"
     ]
    }
   ],
   "source": [
    "a=\" i am swati\"\n",
    "print(a[1: :3]) #swapcase"
   ]
  },
  {
   "cell_type": "code",
   "execution_count": 22,
   "id": "821412ca",
   "metadata": {},
   "outputs": [
    {
     "name": "stdout",
     "output_type": "stream",
     "text": [
      "                       JAY SHREE RAM                        \n"
     ]
    }
   ],
   "source": [
    "a=\"JAY SHREE RAM\"\n",
    "print(a.center(60)) #center"
   ]
  },
  {
   "cell_type": "code",
   "execution_count": 42,
   "id": "2cf33a2c",
   "metadata": {},
   "outputs": [
    {
     "name": "stdout",
     "output_type": "stream",
     "text": [
      " My father\n",
      "136\n",
      " My father did not even bother to answer me.\n",
      "There is no play with fire.\n",
      "Stop talking and open your book.\n",
      "You always want to play games. i am begginer\n",
      "['My', 'father', 'did', 'not', 'even', 'bother', 'to', 'answer', 'me.', 'There', 'is', 'no', 'play', 'with', 'fire.', 'Stop', 'talking', 'and', 'open', 'your', 'book.', 'You', 'always', 'want', 'to', 'play', 'games.']\n",
      " my father did not even bother to answer me.\n",
      "there is no play with fire.\n",
      "stop talking and open your book.\n",
      "you always want to play games.\n",
      " MY FATHER DID NOT EVEN BOTHER TO ANSWER ME.\n",
      "THERE IS NO PLAY WITH FIRE.\n",
      "STOP TALKING AND OPEN YOUR BOOK.\n",
      "YOU ALWAYS WANT TO PLAY GAMES.\n",
      " my father did not even bother to answer me.\n",
      "there is no play with fire.\n",
      "stop talking and open your book.\n",
      "you always want to play games.\n",
      " feiovbeos \n",
      "rs yti\n",
      "p\n"
     ]
    }
   ],
   "source": [
    "intro=\"\"\" My father did not even bother to answer me.\n",
    "There is no play with fire.\n",
    "Stop talking and open your book.\n",
    "You always want to play games.\"\"\"\n",
    "a=\" i am begginer\"\n",
    "print(intro[0:10])#index 10\n",
    "print(len(intro))#length\n",
    "print(intro+a)#concat\n",
    "print(intro.split())#split\n",
    "print(intro.capitalize())#capiltalize\n",
    "print(intro.upper())\n",
    "print(intro.lower())\n",
    "print(intro[0:78:4])#slicing"
   ]
  },
  {
   "cell_type": "code",
   "execution_count": 53,
   "id": "f5993032",
   "metadata": {},
   "outputs": [
    {
     "name": "stdout",
     "output_type": "stream",
     "text": [
      "1\n",
      "My fat\n",
      "14\n"
     ]
    }
   ],
   "source": [
    "a=\"My father did not even bother to answer me.\"\n",
    "print(a.count(\"father\"))#count\n",
    "print(a[ :6])#index\n",
    "print(a.find(\"not\"))#find"
   ]
  },
  {
   "cell_type": "code",
   "execution_count": 55,
   "id": "f37202d2",
   "metadata": {},
   "outputs": [
    {
     "name": "stdout",
     "output_type": "stream",
     "text": [
      "My mother did not even bother to answer me\n"
     ]
    }
   ],
   "source": [
    "a=\"My father did not even bother to answer me\"\n",
    "print(a.replace(\"father\",\"mother\"))"
   ]
  },
  {
   "cell_type": "code",
   "execution_count": null,
   "id": "0a7239bf",
   "metadata": {},
   "outputs": [],
   "source": []
  }
 ],
 "metadata": {
  "kernelspec": {
   "display_name": "Python 3 (ipykernel)",
   "language": "python",
   "name": "python3"
  },
  "language_info": {
   "codemirror_mode": {
    "name": "ipython",
    "version": 3
   },
   "file_extension": ".py",
   "mimetype": "text/x-python",
   "name": "python",
   "nbconvert_exporter": "python",
   "pygments_lexer": "ipython3",
   "version": "3.11.5"
  }
 },
 "nbformat": 4,
 "nbformat_minor": 5
}
