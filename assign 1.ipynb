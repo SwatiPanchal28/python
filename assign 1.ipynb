{
 "cells": [
  {
   "cell_type": "code",
   "execution_count": 1,
   "id": "0e7aa3c9",
   "metadata": {},
   "outputs": [
    {
     "name": "stdout",
     "output_type": "stream",
     "text": [
      " He doesn't study python on monday\n",
      " He teaches english very well\n"
     ]
    }
   ],
   "source": [
    "a=(\" He doesn't study python on monday\") #string\n",
    "b=(\" He teaches english very well\") #string\n",
    "print(a)\n",
    "print(b)"
   ]
  },
  {
   "cell_type": "code",
   "execution_count": 5,
   "id": "4d14566c",
   "metadata": {},
   "outputs": [
    {
     "name": "stdout",
     "output_type": "stream",
     "text": [
      "Name:swati\n",
      "swati\n",
      "Age:20\n",
      "20\n"
     ]
    }
   ],
   "source": [
    "a=input(\"Name:\")\n",
    "print(a)\n",
    "b=input(\"Age:\")\n",
    "print(b)"
   ]
  },
  {
   "cell_type": "code",
   "execution_count": 11,
   "id": "e2bcb7ed",
   "metadata": {},
   "outputs": [
    {
     "name": "stdout",
     "output_type": "stream",
     "text": [
      "my name is swati\n",
      "swati\n",
      "20\n",
      "23j\n",
      "20.0\n"
     ]
    }
   ],
   "source": [
    "#string ,character,integer,complex,float\n",
    "a=\"my name is swati\"\n",
    "print(a)   #string\n",
    "b=\"swati\"\n",
    "print(b)   #character\n",
    "c=20\n",
    "print(c)   #integer\n",
    "d=23j\n",
    "print(d)   #complex\n",
    "e=20.0\n",
    "print(e)   #float"
   ]
  },
  {
   "cell_type": "code",
   "execution_count": 13,
   "id": "9cdd2ccc",
   "metadata": {},
   "outputs": [
    {
     "name": "stdout",
     "output_type": "stream",
     "text": [
      "Number of Addition 152\n"
     ]
    }
   ],
   "source": [
    "a=35\n",
    "b=37\n",
    "c=80\n",
    "print(\"Number of Addition\",a+b+c) #addition of number"
   ]
  },
  {
   "cell_type": "code",
   "execution_count": 14,
   "id": "2b3e154a",
   "metadata": {},
   "outputs": [
    {
     "name": "stdout",
     "output_type": "stream",
     "text": [
      "number of substraction 50\n"
     ]
    }
   ],
   "source": [
    "a=100\n",
    "b=50\n",
    "print(\"number of substraction\",a-b) #substraction of number"
   ]
  },
  {
   "cell_type": "code",
   "execution_count": 21,
   "id": "644a2b3d",
   "metadata": {},
   "outputs": [
    {
     "name": "stdout",
     "output_type": "stream",
     "text": [
      "multiplication = 625\n"
     ]
    }
   ],
   "source": [
    "a=5\n",
    "b=5\n",
    "c=5\n",
    "d=5\n",
    "print(\"multiplication =\",a*b*c*d) #mulitiplication of 4 numbers"
   ]
  },
  {
   "cell_type": "code",
   "execution_count": 24,
   "id": "29f1ea35",
   "metadata": {},
   "outputs": [
    {
     "name": "stdout",
     "output_type": "stream",
     "text": [
      "division = 200.0\n"
     ]
    }
   ],
   "source": [
    "a=1200\n",
    "b=6\n",
    "print(\"division =\",a/b) #division of numbers"
   ]
  },
  {
   "cell_type": "code",
   "execution_count": 30,
   "id": "c8d261be",
   "metadata": {},
   "outputs": [
    {
     "name": "stdout",
     "output_type": "stream",
     "text": [
      "modules = 0\n"
     ]
    }
   ],
   "source": [
    "a=80\n",
    "b=5\n",
    "print(\"modules =\",a%b) #modules of numbers"
   ]
  },
  {
   "cell_type": "code",
   "execution_count": 31,
   "id": "b33b7a98",
   "metadata": {},
   "outputs": [
    {
     "name": "stdout",
     "output_type": "stream",
     "text": [
      "addition 120\n",
      "substraction 80\n",
      "multiplication 2000\n",
      "division 5.0\n",
      "modules 0\n"
     ]
    }
   ],
   "source": [
    "a=100\n",
    "b=20\n",
    "print(\"addition\",a+b) #addition\n",
    "print(\"substraction\",a-b) #substraction\n",
    "print(\"multiplication\",a*b) #multiplication\n",
    "print(\"division\",a/b) #division\n",
    "print(\"modules\",a%b) #modules"
   ]
  },
  {
   "cell_type": "code",
   "execution_count": 32,
   "id": "6705dedd",
   "metadata": {},
   "outputs": [
    {
     "name": "stdout",
     "output_type": "stream",
     "text": [
      "My First Name =swati\n",
      "My Last name =panchal\n",
      "swati\n",
      "panchal\n"
     ]
    }
   ],
   "source": [
    "name=input('My First Name =')\n",
    "sname=input(\"My Last name =\")\n",
    "print(name)\n",
    "print(sname)"
   ]
  },
  {
   "cell_type": "code",
   "execution_count": 35,
   "id": "2504f155",
   "metadata": {},
   "outputs": [
    {
     "name": "stdout",
     "output_type": "stream",
     "text": [
      "enter a number=10\n",
      "enter a number=20\n",
      "addition 30\n",
      "substraction -10\n",
      "multiplication 200\n",
      "division 0.5\n",
      "modules 10\n"
     ]
    }
   ],
   "source": [
    "a=int(input(\"enter a number=\"))\n",
    "b=int(input(\"enter a number=\"))\n",
    "print(\"addition\",a+b)\n",
    "print(\"substraction\",a-b)\n",
    "print(\"multiplication\",a*b)\n",
    "print(\"division\",a/b)\n",
    "print(\"modules\",a%b)\n"
   ]
  },
  {
   "cell_type": "code",
   "execution_count": null,
   "id": "bd5c286c",
   "metadata": {},
   "outputs": [],
   "source": []
  }
 ],
 "metadata": {
  "kernelspec": {
   "display_name": "Python 3 (ipykernel)",
   "language": "python",
   "name": "python3"
  },
  "language_info": {
   "codemirror_mode": {
    "name": "ipython",
    "version": 3
   },
   "file_extension": ".py",
   "mimetype": "text/x-python",
   "name": "python",
   "nbconvert_exporter": "python",
   "pygments_lexer": "ipython3",
   "version": "3.11.5"
  }
 },
 "nbformat": 4,
 "nbformat_minor": 5
}
